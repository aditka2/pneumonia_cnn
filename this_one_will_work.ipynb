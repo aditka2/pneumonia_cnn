{
  "nbformat": 4,
  "nbformat_minor": 0,
  "metadata": {
    "colab": {
      "provenance": [],
      "gpuType": "T4"
    },
    "kernelspec": {
      "name": "python3",
      "display_name": "Python 3"
    },
    "language_info": {
      "name": "python"
    },
    "accelerator": "GPU"
  },
  "cells": [
    {
      "cell_type": "code",
      "execution_count": 1,
      "metadata": {
        "id": "0go39rk_xyWW"
      },
      "outputs": [],
      "source": [
        "import pandas as pd\n",
        "import numpy as np\n",
        "import keras\n",
        "import warnings\n",
        "warnings.filterwarnings(action=\"ignore\")\n",
        "import matplotlib.pyplot as plt\n",
        "import os\n",
        "%matplotlib inline"
      ]
    },
    {
      "cell_type": "code",
      "source": [
        "from keras import backend as K\n",
        "from sklearn.model_selection import train_test_split\n",
        "from sklearn.metrics import classification_report\n",
        "import tensorflow as tf\n",
        "from tensorflow import keras\n",
        "from tensorflow.keras.models import Sequential\n",
        "from tensorflow.keras.layers import Conv2D, MaxPooling2D, Flatten, Dense, Flatten\n",
        "from tensorflow.keras.optimizers import Adam\n",
        "from tensorflow.keras.losses import SparseCategoricalCrossentropy\n",
        "from tensorflow.keras.preprocessing.image import ImageDataGenerator\n",
        "\n",
        "import sklearn.metrics as metrics"
      ],
      "metadata": {
        "id": "tmmDHESp0m45"
      },
      "execution_count": 2,
      "outputs": []
    },
    {
      "cell_type": "code",
      "source": [
        "from google.colab import drive\n",
        "drive.mount('/content/drive')"
      ],
      "metadata": {
        "colab": {
          "base_uri": "https://localhost:8080/"
        },
        "id": "0uBx-a5gzBtw",
        "outputId": "5d2c2c34-8a6c-44e9-fd05-4b0d65d30816"
      },
      "execution_count": 3,
      "outputs": [
        {
          "output_type": "stream",
          "name": "stdout",
          "text": [
            "Mounted at /content/drive\n"
          ]
        }
      ]
    },
    {
      "cell_type": "code",
      "source": [
        "healthy_dirs = [\n",
        "    r'/content/drive/MyDrive/chest_xray/test/NORMAL',\n",
        "    r'/content/drive/MyDrive/chest_xray/train/NORMAL',\n",
        "    r'/content/drive/MyDrive/chest_xray/val/NORMAL',\n",
        "]\n",
        "\n",
        "pneumonia_dir = [\n",
        "    r'/content/drive/MyDrive/chest_xray/test/PNEUMONIA',\n",
        "    r'/content/drive/MyDrive/chest_xray/train/PNEUMONIA',\n",
        "    r'/content/drive/MyDrive/chest_xray/val/PNEUMONIA'\n",
        "]\n",
        "\n",
        "filepaths = []\n",
        "labels = []\n",
        "dict_lists = [healthy_dirs, pneumonia_dir]\n",
        "class_labels = ['Normal', 'Pneumonia']\n",
        "\n",
        "for i, dir_list in enumerate(dict_lists):\n",
        "    for j in dir_list:\n",
        "        flist = os.listdir(j)\n",
        "        for f in flist:\n",
        "            fpath = os.path.join(j, f)\n",
        "            filepaths.append(fpath)\n",
        "            labels.append(class_labels[i])\n",
        "\n",
        "Fseries = pd.Series(filepaths, name=\"filepaths\")\n",
        "Lseries = pd.Series(labels, name=\"labels\")\n",
        "pneumonia_data = pd.concat([Fseries, Lseries], axis=1)\n",
        "pneumonia_df = pd.DataFrame(pneumonia_data)\n",
        "print(pneumonia_df.head())\n",
        "print(pneumonia_df[\"labels\"].value_counts())"
      ],
      "metadata": {
        "colab": {
          "base_uri": "https://localhost:8080/"
        },
        "id": "gkwvjnL3zaVI",
        "outputId": "5f1e2f15-33ac-4add-fe63-a4e488141d9b"
      },
      "execution_count": 4,
      "outputs": [
        {
          "output_type": "stream",
          "name": "stdout",
          "text": [
            "                                           filepaths  labels\n",
            "0  /content/drive/MyDrive/chest_xray/test/NORMAL/...  Normal\n",
            "1  /content/drive/MyDrive/chest_xray/test/NORMAL/...  Normal\n",
            "2  /content/drive/MyDrive/chest_xray/test/NORMAL/...  Normal\n",
            "3  /content/drive/MyDrive/chest_xray/test/NORMAL/...  Normal\n",
            "4  /content/drive/MyDrive/chest_xray/test/NORMAL/...  Normal\n",
            "labels\n",
            "Pneumonia    4280\n",
            "Normal       1583\n",
            "Name: count, dtype: int64\n"
          ]
        }
      ]
    },
    {
      "cell_type": "code",
      "source": [
        "pneumonia_df.head()"
      ],
      "metadata": {
        "colab": {
          "base_uri": "https://localhost:8080/",
          "height": 206
        },
        "id": "7n5Ujj4Qz7mr",
        "outputId": "4997b409-1bbc-435b-f340-4a5d5aae452e"
      },
      "execution_count": 5,
      "outputs": [
        {
          "output_type": "execute_result",
          "data": {
            "text/plain": [
              "                                           filepaths  labels\n",
              "0  /content/drive/MyDrive/chest_xray/test/NORMAL/...  Normal\n",
              "1  /content/drive/MyDrive/chest_xray/test/NORMAL/...  Normal\n",
              "2  /content/drive/MyDrive/chest_xray/test/NORMAL/...  Normal\n",
              "3  /content/drive/MyDrive/chest_xray/test/NORMAL/...  Normal\n",
              "4  /content/drive/MyDrive/chest_xray/test/NORMAL/...  Normal"
            ],
            "text/html": [
              "\n",
              "  <div id=\"df-f15c3296-e5f1-46dc-8ae4-0b28326fa8d9\" class=\"colab-df-container\">\n",
              "    <div>\n",
              "<style scoped>\n",
              "    .dataframe tbody tr th:only-of-type {\n",
              "        vertical-align: middle;\n",
              "    }\n",
              "\n",
              "    .dataframe tbody tr th {\n",
              "        vertical-align: top;\n",
              "    }\n",
              "\n",
              "    .dataframe thead th {\n",
              "        text-align: right;\n",
              "    }\n",
              "</style>\n",
              "<table border=\"1\" class=\"dataframe\">\n",
              "  <thead>\n",
              "    <tr style=\"text-align: right;\">\n",
              "      <th></th>\n",
              "      <th>filepaths</th>\n",
              "      <th>labels</th>\n",
              "    </tr>\n",
              "  </thead>\n",
              "  <tbody>\n",
              "    <tr>\n",
              "      <th>0</th>\n",
              "      <td>/content/drive/MyDrive/chest_xray/test/NORMAL/...</td>\n",
              "      <td>Normal</td>\n",
              "    </tr>\n",
              "    <tr>\n",
              "      <th>1</th>\n",
              "      <td>/content/drive/MyDrive/chest_xray/test/NORMAL/...</td>\n",
              "      <td>Normal</td>\n",
              "    </tr>\n",
              "    <tr>\n",
              "      <th>2</th>\n",
              "      <td>/content/drive/MyDrive/chest_xray/test/NORMAL/...</td>\n",
              "      <td>Normal</td>\n",
              "    </tr>\n",
              "    <tr>\n",
              "      <th>3</th>\n",
              "      <td>/content/drive/MyDrive/chest_xray/test/NORMAL/...</td>\n",
              "      <td>Normal</td>\n",
              "    </tr>\n",
              "    <tr>\n",
              "      <th>4</th>\n",
              "      <td>/content/drive/MyDrive/chest_xray/test/NORMAL/...</td>\n",
              "      <td>Normal</td>\n",
              "    </tr>\n",
              "  </tbody>\n",
              "</table>\n",
              "</div>\n",
              "    <div class=\"colab-df-buttons\">\n",
              "\n",
              "  <div class=\"colab-df-container\">\n",
              "    <button class=\"colab-df-convert\" onclick=\"convertToInteractive('df-f15c3296-e5f1-46dc-8ae4-0b28326fa8d9')\"\n",
              "            title=\"Convert this dataframe to an interactive table.\"\n",
              "            style=\"display:none;\">\n",
              "\n",
              "  <svg xmlns=\"http://www.w3.org/2000/svg\" height=\"24px\" viewBox=\"0 -960 960 960\">\n",
              "    <path d=\"M120-120v-720h720v720H120Zm60-500h600v-160H180v160Zm220 220h160v-160H400v160Zm0 220h160v-160H400v160ZM180-400h160v-160H180v160Zm440 0h160v-160H620v160ZM180-180h160v-160H180v160Zm440 0h160v-160H620v160Z\"/>\n",
              "  </svg>\n",
              "    </button>\n",
              "\n",
              "  <style>\n",
              "    .colab-df-container {\n",
              "      display:flex;\n",
              "      gap: 12px;\n",
              "    }\n",
              "\n",
              "    .colab-df-convert {\n",
              "      background-color: #E8F0FE;\n",
              "      border: none;\n",
              "      border-radius: 50%;\n",
              "      cursor: pointer;\n",
              "      display: none;\n",
              "      fill: #1967D2;\n",
              "      height: 32px;\n",
              "      padding: 0 0 0 0;\n",
              "      width: 32px;\n",
              "    }\n",
              "\n",
              "    .colab-df-convert:hover {\n",
              "      background-color: #E2EBFA;\n",
              "      box-shadow: 0px 1px 2px rgba(60, 64, 67, 0.3), 0px 1px 3px 1px rgba(60, 64, 67, 0.15);\n",
              "      fill: #174EA6;\n",
              "    }\n",
              "\n",
              "    .colab-df-buttons div {\n",
              "      margin-bottom: 4px;\n",
              "    }\n",
              "\n",
              "    [theme=dark] .colab-df-convert {\n",
              "      background-color: #3B4455;\n",
              "      fill: #D2E3FC;\n",
              "    }\n",
              "\n",
              "    [theme=dark] .colab-df-convert:hover {\n",
              "      background-color: #434B5C;\n",
              "      box-shadow: 0px 1px 3px 1px rgba(0, 0, 0, 0.15);\n",
              "      filter: drop-shadow(0px 1px 2px rgba(0, 0, 0, 0.3));\n",
              "      fill: #FFFFFF;\n",
              "    }\n",
              "  </style>\n",
              "\n",
              "    <script>\n",
              "      const buttonEl =\n",
              "        document.querySelector('#df-f15c3296-e5f1-46dc-8ae4-0b28326fa8d9 button.colab-df-convert');\n",
              "      buttonEl.style.display =\n",
              "        google.colab.kernel.accessAllowed ? 'block' : 'none';\n",
              "\n",
              "      async function convertToInteractive(key) {\n",
              "        const element = document.querySelector('#df-f15c3296-e5f1-46dc-8ae4-0b28326fa8d9');\n",
              "        const dataTable =\n",
              "          await google.colab.kernel.invokeFunction('convertToInteractive',\n",
              "                                                    [key], {});\n",
              "        if (!dataTable) return;\n",
              "\n",
              "        const docLinkHtml = 'Like what you see? Visit the ' +\n",
              "          '<a target=\"_blank\" href=https://colab.research.google.com/notebooks/data_table.ipynb>data table notebook</a>'\n",
              "          + ' to learn more about interactive tables.';\n",
              "        element.innerHTML = '';\n",
              "        dataTable['output_type'] = 'display_data';\n",
              "        await google.colab.output.renderOutput(dataTable, element);\n",
              "        const docLink = document.createElement('div');\n",
              "        docLink.innerHTML = docLinkHtml;\n",
              "        element.appendChild(docLink);\n",
              "      }\n",
              "    </script>\n",
              "  </div>\n",
              "\n",
              "\n",
              "<div id=\"df-a2861a16-398b-4423-9085-eaffa005e43d\">\n",
              "  <button class=\"colab-df-quickchart\" onclick=\"quickchart('df-a2861a16-398b-4423-9085-eaffa005e43d')\"\n",
              "            title=\"Suggest charts\"\n",
              "            style=\"display:none;\">\n",
              "\n",
              "<svg xmlns=\"http://www.w3.org/2000/svg\" height=\"24px\"viewBox=\"0 0 24 24\"\n",
              "     width=\"24px\">\n",
              "    <g>\n",
              "        <path d=\"M19 3H5c-1.1 0-2 .9-2 2v14c0 1.1.9 2 2 2h14c1.1 0 2-.9 2-2V5c0-1.1-.9-2-2-2zM9 17H7v-7h2v7zm4 0h-2V7h2v10zm4 0h-2v-4h2v4z\"/>\n",
              "    </g>\n",
              "</svg>\n",
              "  </button>\n",
              "\n",
              "<style>\n",
              "  .colab-df-quickchart {\n",
              "      --bg-color: #E8F0FE;\n",
              "      --fill-color: #1967D2;\n",
              "      --hover-bg-color: #E2EBFA;\n",
              "      --hover-fill-color: #174EA6;\n",
              "      --disabled-fill-color: #AAA;\n",
              "      --disabled-bg-color: #DDD;\n",
              "  }\n",
              "\n",
              "  [theme=dark] .colab-df-quickchart {\n",
              "      --bg-color: #3B4455;\n",
              "      --fill-color: #D2E3FC;\n",
              "      --hover-bg-color: #434B5C;\n",
              "      --hover-fill-color: #FFFFFF;\n",
              "      --disabled-bg-color: #3B4455;\n",
              "      --disabled-fill-color: #666;\n",
              "  }\n",
              "\n",
              "  .colab-df-quickchart {\n",
              "    background-color: var(--bg-color);\n",
              "    border: none;\n",
              "    border-radius: 50%;\n",
              "    cursor: pointer;\n",
              "    display: none;\n",
              "    fill: var(--fill-color);\n",
              "    height: 32px;\n",
              "    padding: 0;\n",
              "    width: 32px;\n",
              "  }\n",
              "\n",
              "  .colab-df-quickchart:hover {\n",
              "    background-color: var(--hover-bg-color);\n",
              "    box-shadow: 0 1px 2px rgba(60, 64, 67, 0.3), 0 1px 3px 1px rgba(60, 64, 67, 0.15);\n",
              "    fill: var(--button-hover-fill-color);\n",
              "  }\n",
              "\n",
              "  .colab-df-quickchart-complete:disabled,\n",
              "  .colab-df-quickchart-complete:disabled:hover {\n",
              "    background-color: var(--disabled-bg-color);\n",
              "    fill: var(--disabled-fill-color);\n",
              "    box-shadow: none;\n",
              "  }\n",
              "\n",
              "  .colab-df-spinner {\n",
              "    border: 2px solid var(--fill-color);\n",
              "    border-color: transparent;\n",
              "    border-bottom-color: var(--fill-color);\n",
              "    animation:\n",
              "      spin 1s steps(1) infinite;\n",
              "  }\n",
              "\n",
              "  @keyframes spin {\n",
              "    0% {\n",
              "      border-color: transparent;\n",
              "      border-bottom-color: var(--fill-color);\n",
              "      border-left-color: var(--fill-color);\n",
              "    }\n",
              "    20% {\n",
              "      border-color: transparent;\n",
              "      border-left-color: var(--fill-color);\n",
              "      border-top-color: var(--fill-color);\n",
              "    }\n",
              "    30% {\n",
              "      border-color: transparent;\n",
              "      border-left-color: var(--fill-color);\n",
              "      border-top-color: var(--fill-color);\n",
              "      border-right-color: var(--fill-color);\n",
              "    }\n",
              "    40% {\n",
              "      border-color: transparent;\n",
              "      border-right-color: var(--fill-color);\n",
              "      border-top-color: var(--fill-color);\n",
              "    }\n",
              "    60% {\n",
              "      border-color: transparent;\n",
              "      border-right-color: var(--fill-color);\n",
              "    }\n",
              "    80% {\n",
              "      border-color: transparent;\n",
              "      border-right-color: var(--fill-color);\n",
              "      border-bottom-color: var(--fill-color);\n",
              "    }\n",
              "    90% {\n",
              "      border-color: transparent;\n",
              "      border-bottom-color: var(--fill-color);\n",
              "    }\n",
              "  }\n",
              "</style>\n",
              "\n",
              "  <script>\n",
              "    async function quickchart(key) {\n",
              "      const quickchartButtonEl =\n",
              "        document.querySelector('#' + key + ' button');\n",
              "      quickchartButtonEl.disabled = true;  // To prevent multiple clicks.\n",
              "      quickchartButtonEl.classList.add('colab-df-spinner');\n",
              "      try {\n",
              "        const charts = await google.colab.kernel.invokeFunction(\n",
              "            'suggestCharts', [key], {});\n",
              "      } catch (error) {\n",
              "        console.error('Error during call to suggestCharts:', error);\n",
              "      }\n",
              "      quickchartButtonEl.classList.remove('colab-df-spinner');\n",
              "      quickchartButtonEl.classList.add('colab-df-quickchart-complete');\n",
              "    }\n",
              "    (() => {\n",
              "      let quickchartButtonEl =\n",
              "        document.querySelector('#df-a2861a16-398b-4423-9085-eaffa005e43d button');\n",
              "      quickchartButtonEl.style.display =\n",
              "        google.colab.kernel.accessAllowed ? 'block' : 'none';\n",
              "    })();\n",
              "  </script>\n",
              "</div>\n",
              "\n",
              "    </div>\n",
              "  </div>\n"
            ],
            "application/vnd.google.colaboratory.intrinsic+json": {
              "type": "dataframe",
              "variable_name": "pneumonia_df",
              "summary": "{\n  \"name\": \"pneumonia_df\",\n  \"rows\": 5863,\n  \"fields\": [\n    {\n      \"column\": \"filepaths\",\n      \"properties\": {\n        \"dtype\": \"string\",\n        \"num_unique_values\": 5863,\n        \"samples\": [\n          \"/content/drive/MyDrive/chest_xray/train/PNEUMONIA/person762_virus_1390.jpeg\",\n          \"/content/drive/MyDrive/chest_xray/train/PNEUMONIA/person1544_bacteria_4037.jpeg\",\n          \"/content/drive/MyDrive/chest_xray/train/NORMAL/IM-0479-0001.jpeg\"\n        ],\n        \"semantic_type\": \"\",\n        \"description\": \"\"\n      }\n    },\n    {\n      \"column\": \"labels\",\n      \"properties\": {\n        \"dtype\": \"category\",\n        \"num_unique_values\": 2,\n        \"samples\": [\n          \"Pneumonia\",\n          \"Normal\"\n        ],\n        \"semantic_type\": \"\",\n        \"description\": \"\"\n      }\n    }\n  ]\n}"
            }
          },
          "metadata": {},
          "execution_count": 5
        }
      ]
    },
    {
      "cell_type": "code",
      "source": [
        "train_images, test_images = train_test_split(pneumonia_df, test_size=0.2, random_state=42)\n",
        "train_set, val_set = train_test_split(train_images, test_size=0.2, random_state=42)"
      ],
      "metadata": {
        "id": "UveYi2J10TFx"
      },
      "execution_count": 6,
      "outputs": []
    },
    {
      "cell_type": "code",
      "source": [
        "image_gen = ImageDataGenerator(preprocessing_function= tf.keras.applications.mobilenet_v2.preprocess_input)\n",
        "\n",
        "train = image_gen.flow_from_dataframe(dataframe= train_set,x_col=\"filepaths\",y_col=\"labels\",\n",
        "                                      target_size=(224,224),\n",
        "                                      color_mode='rgb',\n",
        "                                      class_mode=\"categorical\", #used for Sequential Model\n",
        "                                      batch_size=4,\n",
        "                                      shuffle=False            #do not shuffle data\n",
        "                                     )\n",
        "test = image_gen.flow_from_dataframe(dataframe= test_images,x_col=\"filepaths\", y_col=\"labels\",\n",
        "                                     target_size=(224,224),\n",
        "                                     color_mode='rgb',\n",
        "                                     class_mode=\"categorical\",\n",
        "                                     batch_size=4,\n",
        "                                     shuffle= False\n",
        "                                    )\n",
        "val = image_gen.flow_from_dataframe(dataframe= val_set,x_col=\"filepaths\", y_col=\"labels\",\n",
        "                                    target_size=(224,224),\n",
        "                                    color_mode= 'rgb',\n",
        "                                    class_mode=\"categorical\",\n",
        "                                    batch_size=4,\n",
        "                                    shuffle=False\n",
        "                                   )"
      ],
      "metadata": {
        "colab": {
          "base_uri": "https://localhost:8080/"
        },
        "id": "kKhv1sBs0h6s",
        "outputId": "5738e337-3e78-4867-f887-db17ac6c2549"
      },
      "execution_count": 7,
      "outputs": [
        {
          "output_type": "stream",
          "name": "stdout",
          "text": [
            "Found 3752 validated image filenames belonging to 2 classes.\n",
            "Found 1173 validated image filenames belonging to 2 classes.\n",
            "Found 938 validated image filenames belonging to 2 classes.\n"
          ]
        }
      ]
    },
    {
      "cell_type": "code",
      "source": [
        "classes=list(train.class_indices.keys())\n",
        "print (classes)"
      ],
      "metadata": {
        "colab": {
          "base_uri": "https://localhost:8080/"
        },
        "id": "ojG76_Xd3Qxr",
        "outputId": "1bcc6f2b-35ac-481f-d667-cfbb0b9ba8c7"
      },
      "execution_count": 8,
      "outputs": [
        {
          "output_type": "stream",
          "name": "stdout",
          "text": [
            "['Normal', 'Pneumonia']\n"
          ]
        }
      ]
    },
    {
      "cell_type": "code",
      "source": [
        "pneumonia_df.to_csv('pneumonia_dataset.csv', index=False)"
      ],
      "metadata": {
        "id": "NYHOKjRL8wA3"
      },
      "execution_count": 9,
      "outputs": []
    },
    {
      "cell_type": "code",
      "source": [
        "import tensorflow as tf\n",
        "from tensorflow.keras.applications.densenet import DenseNet121\n",
        "from tensorflow.keras.applications.resnet50 import ResNet50\n",
        "from tensorflow.keras.applications.inception_v3 import InceptionV3\n",
        "from tensorflow.keras.models import Model\n",
        "from tensorflow.keras.layers import Dense, GlobalAveragePooling2D"
      ],
      "metadata": {
        "id": "zz7byu3MByJF"
      },
      "execution_count": 10,
      "outputs": []
    },
    {
      "cell_type": "code",
      "source": [
        "def create_model(model_name):\n",
        "    if model_name == 'CheXpert':\n",
        "        base_model = DenseNet121(weights='imagenet', include_top=False, input_shape=(224, 224, 3))\n",
        "    elif model_name == 'COVID-Net':\n",
        "        base_model = ResNet50(weights='imagenet', include_top=False, input_shape=(224, 224, 3))\n",
        "    elif model_name == 'ResNet':\n",
        "        base_model = ResNet50(weights='imagenet', include_top=False, input_shape=(224, 224, 3))\n",
        "    elif model_name == 'InceptionV3':\n",
        "        base_model = InceptionV3(weights='imagenet', include_top=False, input_shape=(299, 299, 3))\n",
        "    else:\n",
        "        raise ValueError(\"Invalid model name. Choose from: 'CheXpert', 'COVID-Net', 'ResNet', 'InceptionV3'\")\n",
        "\n",
        "    # Freeze the base model layers\n",
        "    for layer in base_model.layers:\n",
        "        layer.trainable = False\n",
        "\n",
        "    # Add a new classification head\n",
        "    x = base_model.output\n",
        "    x = GlobalAveragePooling2D()(x)\n",
        "    x = Dense(2, activation='softmax')(x)  # Binary classification output with softmax\n",
        "\n",
        "    model = Model(inputs=base_model.input, outputs=x)\n",
        "    model.compile(optimizer='adam', loss='categorical_crossentropy', metrics=['accuracy'])\n",
        "\n",
        "    return model"
      ],
      "metadata": {
        "id": "0zBdX03BAKwH"
      },
      "execution_count": 11,
      "outputs": []
    },
    {
      "cell_type": "code",
      "source": [
        "model=create_model('InceptionV3')"
      ],
      "metadata": {
        "colab": {
          "base_uri": "https://localhost:8080/"
        },
        "id": "JH88l4lxB0it",
        "outputId": "20b97fa8-5f26-491e-b81a-72a7aa076a03"
      },
      "execution_count": 12,
      "outputs": [
        {
          "output_type": "stream",
          "name": "stdout",
          "text": [
            "Downloading data from https://storage.googleapis.com/tensorflow/keras-applications/inception_v3/inception_v3_weights_tf_dim_ordering_tf_kernels_notop.h5\n",
            "87910968/87910968 [==============================] - 0s 0us/step\n"
          ]
        }
      ]
    },
    {
      "cell_type": "code",
      "source": [
        "from tensorflow.keras.applications.vgg16 import VGG16\n",
        "\n",
        "def create_vgg16_model():\n",
        "    # Load the pre-trained VGG16 model\n",
        "    base_model = VGG16(weights='imagenet', include_top=False, input_shape=(224, 224, 3))\n",
        "\n",
        "    # Freeze the base model layers\n",
        "    for layer in base_model.layers:\n",
        "        layer.trainable = False\n",
        "\n",
        "    # Add a new classification head\n",
        "    x = base_model.output\n",
        "    x = GlobalAveragePooling2D()(x)\n",
        "    x = Dense(2, activation='softmax')(x)\n",
        "\n",
        "    model = Model(inputs=base_model.input, outputs=x)\n",
        "    model.compile(optimizer='adam', loss='categorical_crossentropy', metrics=['accuracy'])\n",
        "\n",
        "    return model"
      ],
      "metadata": {
        "id": "RBk0CAD9Dp8E"
      },
      "execution_count": 13,
      "outputs": []
    },
    {
      "cell_type": "code",
      "source": [
        "vgg16_model = create_vgg16_model()"
      ],
      "metadata": {
        "colab": {
          "base_uri": "https://localhost:8080/"
        },
        "id": "ozNTgSCID_VD",
        "outputId": "4e4a1475-d6c8-4929-bb9b-116839c1e743"
      },
      "execution_count": 14,
      "outputs": [
        {
          "output_type": "stream",
          "name": "stdout",
          "text": [
            "Downloading data from https://storage.googleapis.com/tensorflow/keras-applications/vgg16/vgg16_weights_tf_dim_ordering_tf_kernels_notop.h5\n",
            "58889256/58889256 [==============================] - 0s 0us/step\n"
          ]
        }
      ]
    },
    {
      "cell_type": "code",
      "source": [
        "from tensorflow.keras.callbacks import EarlyStopping\n",
        "\n",
        "es = EarlyStopping(monitor='val_accuracy', patience=2, restore_best_weights=True)\n",
        "history=vgg16_model.fit(train, epochs=10, validation_data=val, callbacks=[es])"
      ],
      "metadata": {
        "colab": {
          "base_uri": "https://localhost:8080/"
        },
        "id": "VC9E3M89EGgq",
        "outputId": "4217f44c-2670-4ca4-982d-14aecd2b3942"
      },
      "execution_count": 19,
      "outputs": [
        {
          "output_type": "stream",
          "name": "stdout",
          "text": [
            "Epoch 1/10\n",
            "938/938 [==============================] - 73s 78ms/step - loss: 0.1514 - accuracy: 0.9464 - val_loss: 0.1635 - val_accuracy: 0.9424\n",
            "Epoch 2/10\n",
            "938/938 [==============================] - 64s 68ms/step - loss: 0.1461 - accuracy: 0.9464 - val_loss: 0.1598 - val_accuracy: 0.9424\n",
            "Epoch 3/10\n",
            "938/938 [==============================] - 64s 68ms/step - loss: 0.1385 - accuracy: 0.9488 - val_loss: 0.1630 - val_accuracy: 0.9392\n"
          ]
        }
      ]
    },
    {
      "cell_type": "code",
      "source": [
        "y_pred = vgg16_model.predict(test)"
      ],
      "metadata": {
        "colab": {
          "base_uri": "https://localhost:8080/"
        },
        "id": "O9sb9UmOFbwb",
        "outputId": "c2f555a3-ccb9-4d20-cd4e-43cfe61efc7b"
      },
      "execution_count": 21,
      "outputs": [
        {
          "output_type": "stream",
          "name": "stdout",
          "text": [
            "294/294 [==============================] - 23s 79ms/step\n"
          ]
        }
      ]
    },
    {
      "cell_type": "code",
      "source": [
        "pred = np.argmax(y_pred, axis=1) #pick class with highest  probability\n",
        "\n",
        "labels = (train.class_indices)\n",
        "labels = dict((v,k) for k,v in labels.items())\n",
        "pred2 = [labels[k] for k in pred]"
      ],
      "metadata": {
        "id": "1t84f-csOB8u"
      },
      "execution_count": 17,
      "outputs": []
    },
    {
      "cell_type": "code",
      "source": [
        "\n",
        "from sklearn.metrics import confusion_matrix, accuracy_score\n",
        "\n",
        "y_test = test_images.labels\n",
        "print(classification_report(y_test, pred2))\n",
        "print(\"Accuracy of the Model:\",\"{:.1f}%\".format(accuracy_score(y_test, pred2)*100))"
      ],
      "metadata": {
        "colab": {
          "base_uri": "https://localhost:8080/"
        },
        "id": "eQtWBB1_P9Je",
        "outputId": "39e49a0d-8656-45cb-8648-42b75cc63162"
      },
      "execution_count": 18,
      "outputs": [
        {
          "output_type": "stream",
          "name": "stdout",
          "text": [
            "              precision    recall  f1-score   support\n",
            "\n",
            "      Normal       0.95      0.88      0.91       341\n",
            "   Pneumonia       0.95      0.98      0.97       832\n",
            "\n",
            "    accuracy                           0.95      1173\n",
            "   macro avg       0.95      0.93      0.94      1173\n",
            "weighted avg       0.95      0.95      0.95      1173\n",
            "\n",
            "Accuracy of the Model: 95.1%\n"
          ]
        }
      ]
    },
    {
      "cell_type": "code",
      "source": [
        "#inception\n",
        "from tensorflow.keras.callbacks import EarlyStopping\n",
        "\n",
        "es = EarlyStopping(monitor='val_accuracy', patience=2, restore_best_weights=True)\n",
        "history=model.fit(train, epochs=10, validation_data=val, callbacks=[es])"
      ],
      "metadata": {
        "colab": {
          "base_uri": "https://localhost:8080/"
        },
        "id": "PZYw_CfBQDCO",
        "outputId": "af5857c5-c085-4060-f19f-f11d96c60156"
      },
      "execution_count": 20,
      "outputs": [
        {
          "output_type": "stream",
          "name": "stdout",
          "text": [
            "Epoch 1/10\n",
            "938/938 [==============================] - 89s 88ms/step - loss: 0.2709 - accuracy: 0.8899 - val_loss: 0.1972 - val_accuracy: 0.9200\n",
            "Epoch 2/10\n",
            "938/938 [==============================] - 69s 73ms/step - loss: 0.1947 - accuracy: 0.9256 - val_loss: 0.3522 - val_accuracy: 0.8827\n",
            "Epoch 3/10\n",
            "938/938 [==============================] - 67s 71ms/step - loss: 0.1624 - accuracy: 0.9363 - val_loss: 0.3758 - val_accuracy: 0.8678\n"
          ]
        }
      ]
    },
    {
      "cell_type": "code",
      "source": [
        "y_pred_inception = model.predict(test)"
      ],
      "metadata": {
        "colab": {
          "base_uri": "https://localhost:8080/"
        },
        "id": "KSS7zSUVRx3-",
        "outputId": "95dd99ab-0c02-4dd6-d157-b83e1e2ef0c2"
      },
      "execution_count": 22,
      "outputs": [
        {
          "output_type": "stream",
          "name": "stdout",
          "text": [
            "294/294 [==============================] - 21s 66ms/step\n"
          ]
        }
      ]
    },
    {
      "cell_type": "code",
      "source": [
        "pred_inception = np.argmax(y_pred_inception, axis=1) #pick class with highest  probability\n",
        "\n",
        "labels = (train.class_indices)\n",
        "labels = dict((v,k) for k,v in labels.items())\n",
        "pred2_inception = [labels[k] for k in pred_inception]"
      ],
      "metadata": {
        "id": "jUpN9dKMTbJ6"
      },
      "execution_count": 23,
      "outputs": []
    },
    {
      "cell_type": "code",
      "source": [
        "\n",
        "from sklearn.metrics import confusion_matrix, accuracy_score\n",
        "\n",
        "y_test = test_images.labels\n",
        "print(classification_report(y_test, pred2_inception))\n",
        "print(\"Accuracy of the Model:\",\"{:.1f}%\".format(accuracy_score(y_test, pred2_inception)*100))"
      ],
      "metadata": {
        "colab": {
          "base_uri": "https://localhost:8080/"
        },
        "id": "MwhKvs4mTcbf",
        "outputId": "fbaf665a-81e8-4ac2-fa78-b73163bfb500"
      },
      "execution_count": 24,
      "outputs": [
        {
          "output_type": "stream",
          "name": "stdout",
          "text": [
            "              precision    recall  f1-score   support\n",
            "\n",
            "      Normal       0.89      0.93      0.91       341\n",
            "   Pneumonia       0.97      0.95      0.96       832\n",
            "\n",
            "    accuracy                           0.95      1173\n",
            "   macro avg       0.93      0.94      0.94      1173\n",
            "weighted avg       0.95      0.95      0.95      1173\n",
            "\n",
            "Accuracy of the Model: 94.8%\n"
          ]
        }
      ]
    },
    {
      "cell_type": "code",
      "source": [
        "ensemble_preds = (y_pred + y_pred_inception) / 2\n",
        "ensemble_preds=np.argmax(ensemble_preds, axis=1)"
      ],
      "metadata": {
        "id": "I9VCiVhlT-jU"
      },
      "execution_count": 25,
      "outputs": []
    },
    {
      "cell_type": "code",
      "source": [
        "labels = (train.class_indices)\n",
        "labels = dict((v,k) for k,v in labels.items())\n",
        "pred2_ensemble = [labels[k] for k in ensemble_preds]"
      ],
      "metadata": {
        "id": "jloyg4OgUr4s"
      },
      "execution_count": 26,
      "outputs": []
    },
    {
      "cell_type": "code",
      "source": [
        "\n",
        "from sklearn.metrics import confusion_matrix, accuracy_score\n",
        "\n",
        "y_test = test_images.labels\n",
        "print(classification_report(y_test, pred2_ensemble))\n",
        "print(\"Accuracy of the Model:\",\"{:.1f}%\".format(accuracy_score(y_test, pred2_ensemble)*100))"
      ],
      "metadata": {
        "colab": {
          "base_uri": "https://localhost:8080/"
        },
        "id": "kJ9XH3_OU4TH",
        "outputId": "e307ce6d-801e-460e-c7c0-b7ab4665693c"
      },
      "execution_count": 27,
      "outputs": [
        {
          "output_type": "stream",
          "name": "stdout",
          "text": [
            "              precision    recall  f1-score   support\n",
            "\n",
            "      Normal       0.94      0.93      0.93       341\n",
            "   Pneumonia       0.97      0.97      0.97       832\n",
            "\n",
            "    accuracy                           0.96      1173\n",
            "   macro avg       0.95      0.95      0.95      1173\n",
            "weighted avg       0.96      0.96      0.96      1173\n",
            "\n",
            "Accuracy of the Model: 96.2%\n"
          ]
        }
      ]
    },
    {
      "cell_type": "code",
      "source": [
        "vgg16_model.save('/content/drive/MyDrive/chest_xray/chest_xray_vgg16.keras')"
      ],
      "metadata": {
        "id": "uR0HOgsuVA3W"
      },
      "execution_count": 28,
      "outputs": []
    },
    {
      "cell_type": "code",
      "source": [
        "model.save('/content/drive/MyDrive/chest_xray/chest_xray_inception.keras')"
      ],
      "metadata": {
        "id": "JwC-bQZZV7RI"
      },
      "execution_count": 29,
      "outputs": []
    },
    {
      "cell_type": "code",
      "source": [],
      "metadata": {
        "id": "SLmd_pSkV-Oq"
      },
      "execution_count": null,
      "outputs": []
    }
  ]
}